{
 "cells": [
  {
   "cell_type": "code",
   "execution_count": 1,
   "metadata": {
    "colab": {
     "base_uri": "https://localhost:8080/",
     "height": 72
    },
    "colab_type": "code",
    "executionInfo": {
     "elapsed": 2041,
     "status": "ok",
     "timestamp": 1587001436085,
     "user": {
      "displayName": "Seung-Chan Kim",
      "photoUrl": "https://lh3.googleusercontent.com/a-/AOh14GjjUCpGdfqBzlivlOvEe4i1Dj062MbvwEmvnGyn=s64",
      "userId": "16393552909587516870"
     },
     "user_tz": -540
    },
    "id": "YdhUqv_UAWKr",
    "outputId": "fe0cda75-2dd1-46e2-f523-529850ff0a93"
   },
   "outputs": [
    {
     "name": "stderr",
     "output_type": "stream",
     "text": [
      "/home/seung/.venv/py369tf/lib/python3.6/site-packages/sklearn/utils/deprecation.py:143: FutureWarning: The sklearn.datasets.samples_generator module is  deprecated in version 0.22 and will be removed in version 0.24. The corresponding classes / functions should instead be imported from sklearn.datasets. Anything that cannot be imported from sklearn.datasets is now part of the private API.\n",
      "  warnings.warn(message, FutureWarning)\n"
     ]
    }
   ],
   "source": [
    "import matplotlib.pyplot as plt\n",
    "from sklearn.cluster import KMeans\n",
    "from sklearn.datasets.samples_generator import make_blobs\n",
    "import numpy as np"
   ]
  },
  {
   "cell_type": "code",
   "execution_count": 2,
   "metadata": {
    "colab": {},
    "colab_type": "code",
    "id": "PwAL0SukA8th"
   },
   "outputs": [],
   "source": [
    "data, _ = make_blobs(n_samples=800, centers=7, cluster_std=0.20, random_state=0)"
   ]
  },
  {
   "cell_type": "code",
   "execution_count": 3,
   "metadata": {
    "colab": {
     "base_uri": "https://localhost:8080/",
     "height": 34
    },
    "colab_type": "code",
    "executionInfo": {
     "elapsed": 397,
     "status": "ok",
     "timestamp": 1587002364759,
     "user": {
      "displayName": "Seung-Chan Kim",
      "photoUrl": "https://lh3.googleusercontent.com/a-/AOh14GjjUCpGdfqBzlivlOvEe4i1Dj062MbvwEmvnGyn=s64",
      "userId": "16393552909587516870"
     },
     "user_tz": -540
    },
    "id": "X2nyyYP8_0Hr",
    "outputId": "37c965e1-a068-4601-bdd3-8609eabd2597"
   },
   "outputs": [
    {
     "data": {
      "text/plain": [
       "(800, 2)"
      ]
     },
     "execution_count": 3,
     "metadata": {},
     "output_type": "execute_result"
    }
   ],
   "source": [
    "data.shape"
   ]
  },
  {
   "cell_type": "code",
   "execution_count": 4,
   "metadata": {
    "colab": {
     "base_uri": "https://localhost:8080/",
     "height": 34
    },
    "colab_type": "code",
    "executionInfo": {
     "elapsed": 456,
     "status": "ok",
     "timestamp": 1587002365682,
     "user": {
      "displayName": "Seung-Chan Kim",
      "photoUrl": "https://lh3.googleusercontent.com/a-/AOh14GjjUCpGdfqBzlivlOvEe4i1Dj062MbvwEmvnGyn=s64",
      "userId": "16393552909587516870"
     },
     "user_tz": -540
    },
    "id": "ho1WaavjqZ3J",
    "outputId": "ff9cd774-8862-4a0d-e625-2c844386c264"
   },
   "outputs": [
    {
     "data": {
      "text/plain": [
       "array([-1.43481358,  8.08412389])"
      ]
     },
     "execution_count": 4,
     "metadata": {},
     "output_type": "execute_result"
    }
   ],
   "source": [
    "data[799,:]"
   ]
  },
  {
   "cell_type": "code",
   "execution_count": 5,
   "metadata": {
    "colab": {
     "base_uri": "https://localhost:8080/",
     "height": 34
    },
    "colab_type": "code",
    "executionInfo": {
     "elapsed": 744,
     "status": "ok",
     "timestamp": 1587002366634,
     "user": {
      "displayName": "Seung-Chan Kim",
      "photoUrl": "https://lh3.googleusercontent.com/a-/AOh14GjjUCpGdfqBzlivlOvEe4i1Dj062MbvwEmvnGyn=s64",
      "userId": "16393552909587516870"
     },
     "user_tz": -540
    },
    "id": "7ebrXw2IqvH8",
    "outputId": "66f92787-6aa9-4f17-9600-77cb03500bb8"
   },
   "outputs": [
    {
     "data": {
      "text/plain": [
       "8.084123892532626"
      ]
     },
     "execution_count": 5,
     "metadata": {},
     "output_type": "execute_result"
    }
   ],
   "source": [
    "data[799,1]"
   ]
  },
  {
   "cell_type": "code",
   "execution_count": 6,
   "metadata": {
    "colab": {
     "base_uri": "https://localhost:8080/",
     "height": 296
    },
    "colab_type": "code",
    "executionInfo": {
     "elapsed": 896,
     "status": "ok",
     "timestamp": 1587002367507,
     "user": {
      "displayName": "Seung-Chan Kim",
      "photoUrl": "https://lh3.googleusercontent.com/a-/AOh14GjjUCpGdfqBzlivlOvEe4i1Dj062MbvwEmvnGyn=s64",
      "userId": "16393552909587516870"
     },
     "user_tz": -540
    },
    "id": "nMoQGiy1ATuU",
    "outputId": "c1c61a65-3ed5-417d-9ec9-f73451692cf7"
   },
   "outputs": [
    {
     "data": {
      "text/plain": [
       "Text(0, 0.5, 'Y')"
      ]
     },
     "execution_count": 6,
     "metadata": {},
     "output_type": "execute_result"
    },
    {
     "data": {
      "image/png": "[encoded data removed]",
      "text/plain": [
       "<Figure size 432x288 with 1 Axes>"
      ]
     },
     "metadata": {
      "needs_background": "light"
     },
     "output_type": "display_data"
    }
   ],
   "source": [
    "plt.plot(data[:, 0], data[:, 1], '.')\n",
    "plt.xlabel('X')\n",
    "plt.ylabel('Y')"
   ]
  },
  {
   "cell_type": "code",
   "execution_count": 7,
   "metadata": {
    "colab": {
     "base_uri": "https://localhost:8080/",
     "height": 52
    },
    "colab_type": "code",
    "executionInfo": {
     "elapsed": 574,
     "status": "ok",
     "timestamp": 1587001813781,
     "user": {
      "displayName": "Seung-Chan Kim",
      "photoUrl": "https://lh3.googleusercontent.com/a-/AOh14GjjUCpGdfqBzlivlOvEe4i1Dj062MbvwEmvnGyn=s64",
      "userId": "16393552909587516870"
     },
     "user_tz": -540
    },
    "id": "jM27HyqEAdg6",
    "outputId": "4b351680-ff6d-4d05-bcdf-7ea9015c22ff"
   },
   "outputs": [
    {
     "name": "stdout",
     "output_type": "stream",
     "text": [
      "CPU times: user 69.7 ms, sys: 0 ns, total: 69.7 ms\n",
      "Wall time: 19.8 ms\n"
     ]
    },
    {
     "data": {
      "text/plain": [
       "KMeans(n_clusters=5)"
      ]
     },
     "execution_count": 7,
     "metadata": {},
     "output_type": "execute_result"
    }
   ],
   "source": [
    "%%time\n",
    "kmeans = KMeans(n_clusters=5)\n",
    "kmeans.fit(data)"
   ]
  },
  {
   "cell_type": "markdown",
   "metadata": {},
   "source": [
    "아래 중 맞는 것 하나를 골라보세요."
   ]
  },
  {
   "cell_type": "code",
   "execution_count": 8,
   "metadata": {
    "colab": {},
    "colab_type": "code",
    "id": "KbJaqQX3rsUP"
   },
   "outputs": [],
   "source": [
    "kmeans = KMeans(n_clusters=1)\n",
    "kmeans = KMeans(n_clusters=2)\n",
    "kmeans = KMeans(n_clusters=3)\n",
    "kmeans = KMeans(n_clusters=4)\n",
    "kmeans = KMeans(n_clusters=5)\n",
    "#kmeans = KMeans(n_clusters=6)\n",
    "kmeans = KMeans(n_clusters=7)\n",
    "#kmeans = KMeans(n_clusters=8)\n",
    "#kmeans = KMeans(n_clusters=9)"
   ]
  },
  {
   "cell_type": "code",
   "execution_count": 9,
   "metadata": {
    "colab": {
     "base_uri": "https://localhost:8080/",
     "height": 212
    },
    "colab_type": "code",
    "executionInfo": {
     "elapsed": 803,
     "status": "ok",
     "timestamp": 1587002424416,
     "user": {
      "displayName": "Seung-Chan Kim",
      "photoUrl": "https://lh3.googleusercontent.com/a-/AOh14GjjUCpGdfqBzlivlOvEe4i1Dj062MbvwEmvnGyn=s64",
      "userId": "16393552909587516870"
     },
     "user_tz": -540
    },
    "id": "ScEguePwr1qZ",
    "outputId": "b97d564b-5796-4def-9eb3-a5e35e51b0e0"
   },
   "outputs": [
    {
     "name": "stdout",
     "output_type": "stream",
     "text": [
      "1 -------- 21238.420478391763\n",
      "2 -------- 7113.880913989476\n",
      "3 -------- 3105.198618822145\n",
      "4 -------- 1792.8898027472824\n",
      "5 -------- 952.583407026894\n",
      "6 -------- 473.86012834114035\n",
      "7 -------- 60.8755939243628\n",
      "8 -------- 57.10623431475834\n",
      "9 -------- 54.589548426626024\n",
      "10 -------- 50.88468696841379\n",
      "11 -------- 48.25703058264386\n"
     ]
    }
   ],
   "source": [
    "arr1 = [] #빈 그릇 (list)\n",
    "for i in range(1,12):\n",
    "    kmeans = KMeans(n_clusters=i)\n",
    "    kmeans.fit(data)\n",
    "    print(i, '--------',  kmeans.inertia_)\n",
    "    arr1.append(kmeans.inertia_)"
   ]
  },
  {
   "cell_type": "code",
   "execution_count": 10,
   "metadata": {
    "colab": {
     "base_uri": "https://localhost:8080/",
     "height": 282
    },
    "colab_type": "code",
    "executionInfo": {
     "elapsed": 768,
     "status": "ok",
     "timestamp": 1587002425871,
     "user": {
      "displayName": "Seung-Chan Kim",
      "photoUrl": "https://lh3.googleusercontent.com/a-/AOh14GjjUCpGdfqBzlivlOvEe4i1Dj062MbvwEmvnGyn=s64",
      "userId": "16393552909587516870"
     },
     "user_tz": -540
    },
    "id": "W4PsVZdRs1cN",
    "outputId": "c2c239b4-1981-4eaa-9d85-3f7c123ae5e6"
   },
   "outputs": [
    {
     "data": {
      "text/plain": [
       "[<matplotlib.lines.Line2D at 0x7f4179136860>]"
      ]
     },
     "execution_count": 10,
     "metadata": {},
     "output_type": "execute_result"
    },
    {
     "data": {
      "image/png": "[encoded data removed]",
      "text/plain": [
       "<Figure size 432x288 with 1 Axes>"
      ]
     },
     "metadata": {
      "needs_background": "light"
     },
     "output_type": "display_data"
    }
   ],
   "source": [
    "plt.plot(arr1)"
   ]
  },
  {
   "cell_type": "markdown",
   "metadata": {},
   "source": [
    "위에서 k가 7에서 elbow가 있음에 착안 (index는 0부터)"
   ]
  },
  {
   "cell_type": "code",
   "execution_count": 16,
   "metadata": {},
   "outputs": [
    {
     "name": "stdout",
     "output_type": "stream",
     "text": [
      "60.875593924362796\n"
     ]
    }
   ],
   "source": [
    "kmeans = KMeans(n_clusters=7)\n",
    "kmeans.fit(data)\n",
    "print(kmeans.inertia_)"
   ]
  },
  {
   "cell_type": "code",
   "execution_count": 17,
   "metadata": {
    "colab": {
     "base_uri": "https://localhost:8080/",
     "height": 212
    },
    "colab_type": "code",
    "executionInfo": {
     "elapsed": 508,
     "status": "ok",
     "timestamp": 1587002447588,
     "user": {
      "displayName": "Seung-Chan Kim",
      "photoUrl": "https://lh3.googleusercontent.com/a-/AOh14GjjUCpGdfqBzlivlOvEe4i1Dj062MbvwEmvnGyn=s64",
      "userId": "16393552909587516870"
     },
     "user_tz": -540
    },
    "id": "b67zvxtxBT9W",
    "outputId": "a55ce24e-296a-468a-f756-8f1625ce9639"
   },
   "outputs": [
    {
     "name": "stdout",
     "output_type": "stream",
     "text": [
      "[[ 2.02052062  0.88069251]\n",
      " [-1.25219327  7.82013601]\n",
      " [ 9.31480152 -2.33106587]\n",
      " [-1.55311755  2.89258542]\n",
      " [ 5.84082798  0.59194939]\n",
      " [ 0.96372862  4.31653186]\n",
      " [ 1.34680251  8.52053851]]\n"
     ]
    }
   ],
   "source": [
    "centroids = kmeans.cluster_centers_\n",
    "print(centroids)"
   ]
  },
  {
   "cell_type": "code",
   "execution_count": 13,
   "metadata": {
    "colab": {
     "base_uri": "https://localhost:8080/",
     "height": 34
    },
    "colab_type": "code",
    "executionInfo": {
     "elapsed": 585,
     "status": "ok",
     "timestamp": 1586354144267,
     "user": {
      "displayName": "Seung-Chan Kim",
      "photoUrl": "https://lh3.googleusercontent.com/a-/AOh14GjjUCpGdfqBzlivlOvEe4i1Dj062MbvwEmvnGyn=s64",
      "userId": "16393552909587516870"
     },
     "user_tz": -540
    },
    "id": "Wor_hz7WCSqv",
    "outputId": "19ca1c5f-0d10-4d53-c795-cd5928396ee2"
   },
   "outputs": [
    {
     "data": {
      "text/plain": [
       "60.875593924362796"
      ]
     },
     "execution_count": 13,
     "metadata": {},
     "output_type": "execute_result"
    }
   ],
   "source": [
    "kmeans.inertia_"
   ]
  },
  {
   "cell_type": "code",
   "execution_count": 14,
   "metadata": {
    "colab": {
     "base_uri": "https://localhost:8080/",
     "height": 255
    },
    "colab_type": "code",
    "executionInfo": {
     "elapsed": 539,
     "status": "ok",
     "timestamp": 1586354248998,
     "user": {
      "displayName": "Seung-Chan Kim",
      "photoUrl": "https://lh3.googleusercontent.com/a-/AOh14GjjUCpGdfqBzlivlOvEe4i1Dj062MbvwEmvnGyn=s64",
      "userId": "16393552909587516870"
     },
     "user_tz": -540
    },
    "id": "LCsWmabpFKdy",
    "outputId": "49ee1da9-1fc8-4887-a7b6-3eeec22171bd"
   },
   "outputs": [
    {
     "data": {
      "text/plain": [
       "array([3, 6, 4, 3, 0, 4, 1, 5, 6, 5, 3, 6, 3, 4, 1, 4, 3, 2, 6, 6, 2, 3,\n",
       "       3, 0, 1, 5, 6, 3, 0, 4, 6, 6, 3, 5, 1, 3, 4, 0, 1, 1, 5, 6, 3, 4,\n",
       "       0, 2, 4, 1, 5, 2, 0, 0, 4, 4, 3, 2, 1, 3, 2, 6, 6, 5, 3, 5, 5, 3,\n",
       "       3, 5, 4, 1, 1, 1, 4, 6, 4, 4, 0, 0, 2, 1, 1, 1, 0, 3, 1, 6, 6, 5,\n",
       "       4, 1, 4, 6, 5, 3, 1, 3, 4, 1, 3, 4, 1, 2, 6, 5, 4, 2, 3, 5, 4, 6,\n",
       "       6, 1, 5, 3, 1, 4, 4, 5, 6, 3, 2, 0, 6, 0, 1, 5, 2, 6, 5, 1, 4, 6,\n",
       "       5, 1, 0, 3, 2, 0, 4, 0, 0, 2, 0, 5, 6, 4, 6, 5, 0, 5, 2, 2, 6, 3,\n",
       "       0, 1, 1, 5, 1, 0, 4, 5, 5, 0, 3, 6, 2, 0, 5, 3, 1, 2, 1, 6, 5, 6,\n",
       "       3, 3, 0, 4, 2, 1, 1, 2, 0, 5, 2, 4, 5, 1, 5, 5, 5, 3, 2, 5, 0, 2,\n",
       "       6, 4, 2, 4, 6, 3, 4, 6, 0, 5, 0, 3, 1, 3, 3, 2, 5, 1, 3, 1, 6, 1,\n",
       "       4, 4, 0, 0, 0, 2, 0, 5, 6, 1, 2, 6, 1, 4, 4, 3, 3, 6, 5, 6, 2, 1,\n",
       "       4, 6, 3, 3, 6, 1, 4, 1, 1, 0, 2, 6, 2, 2, 0, 6, 4, 0, 1, 1, 5, 6,\n",
       "       0, 3, 3, 6, 3, 4, 2, 0, 2, 5, 2, 5, 0, 1, 1, 2, 2, 2, 4, 1, 6, 1,\n",
       "       1, 1, 4, 4, 5, 2, 2, 2, 1, 4, 3, 1, 2, 0, 1, 4, 5, 5, 2, 6, 4, 5,\n",
       "       6, 3, 4, 1, 2, 0, 2, 6, 2, 2, 3, 0, 0, 4, 5, 5, 2, 2, 5, 4, 3, 2,\n",
       "       5, 6, 2, 5, 5, 4, 6, 6, 4, 6, 0, 3, 1, 0, 0, 3, 3, 1, 2, 5, 0, 5,\n",
       "       2, 3, 0, 0, 6, 2, 2, 2, 2, 4, 4, 2, 4, 2, 4, 4, 5, 6, 6, 6, 5, 1,\n",
       "       6, 5, 3, 6, 0, 3, 3, 0, 5, 4, 1, 6, 2, 3, 3, 2, 0, 0, 5, 4, 6, 1,\n",
       "       5, 3, 1, 5, 6, 1, 5, 6, 0, 4, 2, 5, 3, 0, 2, 5, 1, 5, 3, 6, 3, 5,\n",
       "       3, 4, 1, 6, 5, 3, 2, 1, 6, 1, 0, 2, 0, 5, 4, 2, 2, 1, 3, 6, 0, 4,\n",
       "       1, 6, 6, 4, 0, 1, 4, 6, 0, 5, 5, 5, 2, 4, 5, 0, 2, 1, 4, 6, 1, 4,\n",
       "       4, 4, 6, 0, 3, 3, 0, 5, 5, 5, 1, 2, 3, 6, 0, 6, 5, 3, 3, 0, 3, 6,\n",
       "       3, 0, 4, 5, 3, 4, 1, 1, 3, 5, 3, 3, 6, 2, 0, 3, 2, 1, 3, 3, 3, 4,\n",
       "       0, 2, 5, 2, 3, 3, 3, 5, 4, 6, 4, 4, 0, 3, 4, 3, 1, 3, 1, 6, 6, 1,\n",
       "       2, 1, 5, 2, 3, 3, 5, 6, 6, 5, 6, 5, 6, 6, 4, 1, 5, 6, 4, 1, 1, 4,\n",
       "       2, 2, 0, 2, 6, 5, 6, 4, 6, 1, 4, 2, 6, 2, 5, 2, 0, 3, 0, 6, 1, 4,\n",
       "       3, 1, 1, 6, 2, 1, 6, 5, 3, 0, 0, 2, 5, 4, 1, 1, 2, 0, 0, 1, 0, 4,\n",
       "       5, 3, 5, 3, 6, 2, 0, 3, 5, 2, 2, 0, 5, 2, 5, 2, 6, 2, 4, 0, 0, 1,\n",
       "       0, 2, 5, 0, 3, 6, 2, 0, 6, 1, 0, 4, 5, 6, 6, 2, 3, 5, 2, 5, 6, 3,\n",
       "       4, 0, 2, 0, 5, 3, 1, 4, 2, 1, 4, 4, 0, 6, 2, 3, 1, 4, 3, 6, 2, 3,\n",
       "       2, 2, 3, 3, 4, 4, 0, 3, 1, 6, 4, 2, 6, 2, 0, 4, 2, 2, 0, 0, 5, 1,\n",
       "       0, 4, 3, 3, 5, 3, 0, 3, 2, 0, 3, 4, 2, 4, 2, 0, 4, 6, 1, 6, 3, 0,\n",
       "       1, 5, 4, 0, 0, 5, 0, 5, 1, 3, 4, 4, 5, 5, 3, 6, 0, 0, 1, 0, 5, 1,\n",
       "       2, 0, 4, 5, 6, 3, 2, 2, 6, 5, 4, 0, 3, 3, 0, 1, 1, 1, 4, 2, 6, 0,\n",
       "       0, 6, 6, 1, 3, 4, 5, 2, 2, 4, 6, 5, 6, 5, 1, 4, 6, 2, 1, 0, 4, 1,\n",
       "       0, 4, 4, 0, 1, 1, 1, 0, 6, 3, 0, 6, 6, 1, 4, 4, 4, 0, 5, 5, 2, 2,\n",
       "       1, 4, 5, 1, 4, 0, 5, 0], dtype=int32)"
      ]
     },
     "execution_count": 14,
     "metadata": {},
     "output_type": "execute_result"
    }
   ],
   "source": [
    "kmeans.labels_"
   ]
  },
  {
   "cell_type": "code",
   "execution_count": 15,
   "metadata": {
    "colab": {
     "base_uri": "https://localhost:8080/",
     "height": 296
    },
    "colab_type": "code",
    "executionInfo": {
     "elapsed": 766,
     "status": "ok",
     "timestamp": 1586354303081,
     "user": {
      "displayName": "Seung-Chan Kim",
      "photoUrl": "https://lh3.googleusercontent.com/a-/AOh14GjjUCpGdfqBzlivlOvEe4i1Dj062MbvwEmvnGyn=s64",
      "userId": "16393552909587516870"
     },
     "user_tz": -540
    },
    "id": "DlLmElkjCUyl",
    "outputId": "39448d41-7c98-4d69-8994-2aeafe17d8e7"
   },
   "outputs": [
    {
     "data": {
      "text/plain": [
       "Text(0, 0.5, 'Y')"
      ]
     },
     "execution_count": 15,
     "metadata": {},
     "output_type": "execute_result"
    },
    {
     "data": {
      "image/png": "[encoded data removed]",
      "text/plain": [
       "<Figure size 432x288 with 1 Axes>"
      ]
     },
     "metadata": {
      "needs_background": "light"
     },
     "output_type": "display_data"
    }
   ],
   "source": [
    "#plt.plot(x, y, '.')\n",
    "plt.scatter(data[:, 0], data[:, 1], c=kmeans.labels_)\n",
    "plt.plot(centroids[:, 0], centroids[:, 1], 'r+')\n",
    "plt.xlabel('X')\n",
    "plt.ylabel('Y')"
   ]
  }
 ],
 "metadata": {
  "colab": {
   "authorship_tag": "ABX9TyPKu8kWY3mweVR3M6W63Mi+",
   "collapsed_sections": [],
   "name": "hello_kmeans_blob_elbow.ipynb",
   "provenance": [
    {
     "file_id": "14YPqF8vMxAOjqvf8rXPxbPBbbF7ZYpmF",
     "timestamp": 1587000981941
    },
    {
     "file_id": "1rQpoKsGs0dd-H2j2vYr1iE0dKwsfQJvS",
     "timestamp": 1586353657841
    }
   ]
  },
  "kernelspec": {
   "display_name": "Python 3",
   "language": "python",
   "name": "python3"
  },
  "language_info": {
   "codemirror_mode": {
    "name": "ipython",
    "version": 3
   },
   "file_extension": ".py",
   "mimetype": "text/x-python",
   "name": "python",
   "nbconvert_exporter": "python",
   "pygments_lexer": "ipython3",
   "version": "3.6.9"
  }
 },
 "nbformat": 4,
 "nbformat_minor": 1
}
