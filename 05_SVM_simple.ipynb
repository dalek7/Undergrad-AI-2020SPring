{
 "cells": [
  {
   "cell_type": "markdown",
   "metadata": {
    "colab_type": "text",
    "id": "s38kYmxHD84k"
   },
   "source": [
    "# Hello SVM \n",
    "* Support Vector Machine 실습\n",
    "* 717005 2020 Spring, 한림대학교"
   ]
  },
  {
   "cell_type": "code",
   "execution_count": 1,
   "metadata": {
    "colab": {},
    "colab_type": "code",
    "id": "yl1Rq6yg9bs9"
   },
   "outputs": [],
   "source": [
    "from sklearn.svm import SVC\n",
    "import matplotlib.pyplot as plt\n",
    "import numpy as np"
   ]
  },
  {
   "cell_type": "code",
   "execution_count": 2,
   "metadata": {
    "colab": {},
    "colab_type": "code",
    "id": "NgMWAOQG9w0N"
   },
   "outputs": [],
   "source": [
    "tpts = np.array([[1, 2], [1, 5], [2, 2], [3, 3.5], [7, 5], [9, 4], [8, 2]]) #training_points\n",
    "labels = [1, 1, 1, 1, 0, 0, 0]"
   ]
  },
  {
   "cell_type": "code",
   "execution_count": 3,
   "metadata": {
    "colab": {
     "base_uri": "https://localhost:8080/",
     "height": 158
    },
    "colab_type": "code",
    "executionInfo": {
     "elapsed": 805,
     "status": "ok",
     "timestamp": 1586974421135,
     "user": {
      "displayName": "Seung-Chan Kim",
      "photoUrl": "https://lh3.googleusercontent.com/a-/AOh14GjjUCpGdfqBzlivlOvEe4i1Dj062MbvwEmvnGyn=s64",
      "userId": "16393552909587516870"
     },
     "user_tz": -540
    },
    "id": "my9gvFGX-DrR",
    "outputId": "cb7d8e1e-a520-4cfd-b010-0e1b06c7ec26"
   },
   "outputs": [
    {
     "data": {
      "text/plain": [
       "array([[1. , 2. ],\n",
       "       [1. , 5. ],\n",
       "       [2. , 2. ],\n",
       "       [3. , 3.5],\n",
       "       [7. , 5. ],\n",
       "       [9. , 4. ],\n",
       "       [8. , 2. ]])"
      ]
     },
     "execution_count": 3,
     "metadata": {},
     "output_type": "execute_result"
    }
   ],
   "source": [
    "tpts"
   ]
  },
  {
   "cell_type": "code",
   "execution_count": 4,
   "metadata": {
    "colab": {
     "base_uri": "https://localhost:8080/",
     "height": 34
    },
    "colab_type": "code",
    "executionInfo": {
     "elapsed": 455,
     "status": "ok",
     "timestamp": 1586974422854,
     "user": {
      "displayName": "Seung-Chan Kim",
      "photoUrl": "https://lh3.googleusercontent.com/a-/AOh14GjjUCpGdfqBzlivlOvEe4i1Dj062MbvwEmvnGyn=s64",
      "userId": "16393552909587516870"
     },
     "user_tz": -540
    },
    "id": "JrTJ9-B0-N__",
    "outputId": "0f850470-95f6-4497-f895-e298e2bce777"
   },
   "outputs": [
    {
     "data": {
      "text/plain": [
       "(7, 2)"
      ]
     },
     "execution_count": 4,
     "metadata": {},
     "output_type": "execute_result"
    }
   ],
   "source": [
    "tpts.shape"
   ]
  },
  {
   "cell_type": "code",
   "execution_count": 5,
   "metadata": {
    "colab": {
     "base_uri": "https://localhost:8080/",
     "height": 282
    },
    "colab_type": "code",
    "executionInfo": {
     "elapsed": 714,
     "status": "ok",
     "timestamp": 1586974423721,
     "user": {
      "displayName": "Seung-Chan Kim",
      "photoUrl": "https://lh3.googleusercontent.com/a-/AOh14GjjUCpGdfqBzlivlOvEe4i1Dj062MbvwEmvnGyn=s64",
      "userId": "16393552909587516870"
     },
     "user_tz": -540
    },
    "id": "lf-fpkCu-az6",
    "outputId": "31d4a282-96ec-4e90-e730-d85300d5c587"
   },
   "outputs": [
    {
     "data": {
      "text/plain": [
       "<matplotlib.collections.PathCollection at 0x7f07521b7278>"
      ]
     },
     "execution_count": 5,
     "metadata": {},
     "output_type": "execute_result"
    },
    {
     "data": {
      "image/png": "[encoded data removed]",
      "text/plain": [
       "<Figure size 432x288 with 1 Axes>"
      ]
     },
     "metadata": {
      "needs_background": "light"
     },
     "output_type": "display_data"
    }
   ],
   "source": [
    "plt.scatter(tpts[:, 0], tpts[:, 1], c=labels)"
   ]
  },
  {
   "cell_type": "markdown",
   "metadata": {
    "colab_type": "text",
    "id": "jk6XhCbIDxxn"
   },
   "source": []
  },
  {
   "cell_type": "code",
   "execution_count": 6,
   "metadata": {
    "colab": {},
    "colab_type": "code",
    "id": "0vMNwK-N-kb3"
   },
   "outputs": [],
   "source": [
    "clf = SVC(kernel='linear') #classifier"
   ]
  },
  {
   "cell_type": "code",
   "execution_count": 7,
   "metadata": {
    "colab": {
     "base_uri": "https://localhost:8080/",
     "height": 123
    },
    "colab_type": "code",
    "executionInfo": {
     "elapsed": 390,
     "status": "ok",
     "timestamp": 1586974431848,
     "user": {
      "displayName": "Seung-Chan Kim",
      "photoUrl": "https://lh3.googleusercontent.com/a-/AOh14GjjUCpGdfqBzlivlOvEe4i1Dj062MbvwEmvnGyn=s64",
      "userId": "16393552909587516870"
     },
     "user_tz": -540
    },
    "id": "gu89Nd98_SCg",
    "outputId": "36345538-dfc6-4f52-fbaf-9cf3c583af78"
   },
   "outputs": [
    {
     "name": "stdout",
     "output_type": "stream",
     "text": [
      "CPU times: user 0 ns, sys: 921 µs, total: 921 µs\n",
      "Wall time: 827 µs\n"
     ]
    },
    {
     "data": {
      "text/plain": [
       "SVC(kernel='linear')"
      ]
     },
     "execution_count": 7,
     "metadata": {},
     "output_type": "execute_result"
    }
   ],
   "source": [
    "%%time\n",
    "clf.fit(tpts, labels)"
   ]
  },
  {
   "cell_type": "markdown",
   "metadata": {
    "colab_type": "text",
    "id": "Fx4tkXKJAU2A"
   },
   "source": [
    "### 테스트해보기"
   ]
  },
  {
   "cell_type": "code",
   "execution_count": 8,
   "metadata": {
    "colab": {
     "base_uri": "https://localhost:8080/",
     "height": 34
    },
    "colab_type": "code",
    "executionInfo": {
     "elapsed": 475,
     "status": "ok",
     "timestamp": 1586974433603,
     "user": {
      "displayName": "Seung-Chan Kim",
      "photoUrl": "https://lh3.googleusercontent.com/a-/AOh14GjjUCpGdfqBzlivlOvEe4i1Dj062MbvwEmvnGyn=s64",
      "userId": "16393552909587516870"
     },
     "user_tz": -540
    },
    "id": "LtJGWZjx_fsr",
    "outputId": "5c611838-9cdc-4e3b-bde8-185e8a4033a9"
   },
   "outputs": [
    {
     "name": "stdout",
     "output_type": "stream",
     "text": [
      "1\n"
     ]
    }
   ],
   "source": [
    "pred1 = clf.predict([[3, 3]])\n",
    "print(pred1[0])"
   ]
  },
  {
   "cell_type": "code",
   "execution_count": 9,
   "metadata": {
    "colab": {
     "base_uri": "https://localhost:8080/",
     "height": 34
    },
    "colab_type": "code",
    "executionInfo": {
     "elapsed": 350,
     "status": "ok",
     "timestamp": 1586974434406,
     "user": {
      "displayName": "Seung-Chan Kim",
      "photoUrl": "https://lh3.googleusercontent.com/a-/AOh14GjjUCpGdfqBzlivlOvEe4i1Dj062MbvwEmvnGyn=s64",
      "userId": "16393552909587516870"
     },
     "user_tz": -540
    },
    "id": "4hp_D9Rm_79s",
    "outputId": "a400e598-50b5-4cb2-f8f4-808ea9109d94"
   },
   "outputs": [
    {
     "name": "stdout",
     "output_type": "stream",
     "text": [
      "0\n"
     ]
    }
   ],
   "source": [
    "pred1 = clf.predict([[7, 4]])\n",
    "print(pred1[0])"
   ]
  },
  {
   "cell_type": "code",
   "execution_count": 10,
   "metadata": {
    "colab": {
     "base_uri": "https://localhost:8080/",
     "height": 34
    },
    "colab_type": "code",
    "executionInfo": {
     "elapsed": 379,
     "status": "ok",
     "timestamp": 1586974435176,
     "user": {
      "displayName": "Seung-Chan Kim",
      "photoUrl": "https://lh3.googleusercontent.com/a-/AOh14GjjUCpGdfqBzlivlOvEe4i1Dj062MbvwEmvnGyn=s64",
      "userId": "16393552909587516870"
     },
     "user_tz": -540
    },
    "id": "dBGYyyl2__w6",
    "outputId": "f5c102ac-5936-4e35-ff78-e87e139e3317"
   },
   "outputs": [
    {
     "name": "stdout",
     "output_type": "stream",
     "text": [
      "0\n"
     ]
    }
   ],
   "source": [
    "pred1 = clf.predict([[7, 4.1]])\n",
    "print(pred1[0])"
   ]
  },
  {
   "cell_type": "markdown",
   "metadata": {
    "colab_type": "text",
    "id": "G2l4gKlkAaxh"
   },
   "source": [
    "### 그래프 그려보기"
   ]
  },
  {
   "cell_type": "code",
   "execution_count": 11,
   "metadata": {
    "colab": {
     "base_uri": "https://localhost:8080/",
     "height": 34
    },
    "colab_type": "code",
    "executionInfo": {
     "elapsed": 441,
     "status": "ok",
     "timestamp": 1586974437143,
     "user": {
      "displayName": "Seung-Chan Kim",
      "photoUrl": "https://lh3.googleusercontent.com/a-/AOh14GjjUCpGdfqBzlivlOvEe4i1Dj062MbvwEmvnGyn=s64",
      "userId": "16393552909587516870"
     },
     "user_tz": -540
    },
    "id": "waodemSxAfvk",
    "outputId": "6434f065-e636-4683-c83f-0411f137765a"
   },
   "outputs": [
    {
     "data": {
      "text/plain": [
       "array([[-0.44424281, -0.14808094]])"
      ]
     },
     "execution_count": 11,
     "metadata": {},
     "output_type": "execute_result"
    }
   ],
   "source": [
    "clf.coef_"
   ]
  },
  {
   "cell_type": "code",
   "execution_count": 12,
   "metadata": {
    "colab": {
     "base_uri": "https://localhost:8080/",
     "height": 34
    },
    "colab_type": "code",
    "executionInfo": {
     "elapsed": 609,
     "status": "ok",
     "timestamp": 1586974438535,
     "user": {
      "displayName": "Seung-Chan Kim",
      "photoUrl": "https://lh3.googleusercontent.com/a-/AOh14GjjUCpGdfqBzlivlOvEe4i1Dj062MbvwEmvnGyn=s64",
      "userId": "16393552909587516870"
     },
     "user_tz": -540
    },
    "id": "E2xUnsD1Au07",
    "outputId": "cfa97733-ff0c-4960-dea7-99a8dbf15abb"
   },
   "outputs": [
    {
     "data": {
      "text/plain": [
       "array([2.85040677])"
      ]
     },
     "execution_count": 12,
     "metadata": {},
     "output_type": "execute_result"
    }
   ],
   "source": [
    "clf.intercept_"
   ]
  },
  {
   "cell_type": "code",
   "execution_count": 13,
   "metadata": {
    "colab": {},
    "colab_type": "code",
    "id": "vAchk9OgA3zv"
   },
   "outputs": [],
   "source": [
    "def getXY(clf):\n",
    "  w = clf.coef_[0]\n",
    "  i = clf.intercept_[0]\n",
    "  print('weights = ', w)\n",
    "  print('intercept_ = ', i)\n",
    "\n",
    "  a = -w[0] / w[1]\n",
    "  b = -i / w[1]\n",
    "  x = np.linspace(1, 9)\n",
    "\n",
    "  y = a * x + b\n",
    "\n",
    "  return x, y\n"
   ]
  },
  {
   "cell_type": "code",
   "execution_count": 14,
   "metadata": {
    "colab": {
     "base_uri": "https://localhost:8080/",
     "height": 52
    },
    "colab_type": "code",
    "executionInfo": {
     "elapsed": 466,
     "status": "ok",
     "timestamp": 1586974440571,
     "user": {
      "displayName": "Seung-Chan Kim",
      "photoUrl": "https://lh3.googleusercontent.com/a-/AOh14GjjUCpGdfqBzlivlOvEe4i1Dj062MbvwEmvnGyn=s64",
      "userId": "16393552909587516870"
     },
     "user_tz": -540
    },
    "id": "_i3o45RGBXx4",
    "outputId": "9483fb84-c7c8-447e-ae26-543134d2e986"
   },
   "outputs": [
    {
     "name": "stdout",
     "output_type": "stream",
     "text": [
      "weights =  [-0.44424281 -0.14808094]\n",
      "intercept_ =  2.8504067697205833\n"
     ]
    }
   ],
   "source": [
    "x, y = getXY(clf)"
   ]
  },
  {
   "cell_type": "code",
   "execution_count": 15,
   "metadata": {
    "colab": {},
    "colab_type": "code",
    "id": "tCd4IYRjBZLq"
   },
   "outputs": [],
   "source": [
    "#y"
   ]
  },
  {
   "cell_type": "code",
   "execution_count": 16,
   "metadata": {
    "colab": {
     "base_uri": "https://localhost:8080/",
     "height": 282
    },
    "colab_type": "code",
    "executionInfo": {
     "elapsed": 570,
     "status": "ok",
     "timestamp": 1586974443173,
     "user": {
      "displayName": "Seung-Chan Kim",
      "photoUrl": "https://lh3.googleusercontent.com/a-/AOh14GjjUCpGdfqBzlivlOvEe4i1Dj062MbvwEmvnGyn=s64",
      "userId": "16393552909587516870"
     },
     "user_tz": -540
    },
    "id": "7oFXmReeCb27",
    "outputId": "91b2a97e-c882-4f19-a9e8-b5818135dd8a"
   },
   "outputs": [
    {
     "data": {
      "text/plain": [
       "[<matplotlib.lines.Line2D at 0x7f0752171e80>]"
      ]
     },
     "execution_count": 16,
     "metadata": {},
     "output_type": "execute_result"
    },
    {
     "data": {
      "image/png": "[encoded data removed]",
      "text/plain": [
       "<Figure size 432x288 with 1 Axes>"
      ]
     },
     "metadata": {
      "needs_background": "light"
     },
     "output_type": "display_data"
    }
   ],
   "source": [
    "plt.scatter(tpts[:, 0], tpts[:, 1], c=labels)\n",
    "plt.plot(x, y, '-')"
   ]
  }
 ],
 "metadata": {
  "colab": {
   "authorship_tag": "ABX9TyMwNEJQv5iheLv2VxLQcSlh",
   "collapsed_sections": [],
   "name": "05_SVM_simple.ipynb",
   "provenance": []
  },
  "kernelspec": {
   "display_name": "Python 3",
   "language": "python",
   "name": "python3"
  },
  "language_info": {
   "codemirror_mode": {
    "name": "ipython",
    "version": 3
   },
   "file_extension": ".py",
   "mimetype": "text/x-python",
   "name": "python",
   "nbconvert_exporter": "python",
   "pygments_lexer": "ipython3",
   "version": "3.6.9"
  }
 },
 "nbformat": 4,
 "nbformat_minor": 1
}
