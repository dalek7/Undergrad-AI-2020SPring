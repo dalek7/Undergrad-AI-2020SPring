{
 "cells": [
  {
   "cell_type": "markdown",
   "metadata": {
    "colab_type": "text",
    "id": "32aZYoAV-7I3"
   },
   "source": [
    "## MNIST 분류기"
   ]
  },
  {
   "cell_type": "code",
   "execution_count": 1,
   "metadata": {
    "colab": {},
    "colab_type": "code",
    "executionInfo": {
     "elapsed": 3493,
     "status": "ok",
     "timestamp": 1592367851502,
     "user": {
      "displayName": "Seung-Chan Kim",
      "photoUrl": "https://lh3.googleusercontent.com/a-/AOh14GjjUCpGdfqBzlivlOvEe4i1Dj062MbvwEmvnGyn=s64",
      "userId": "16393552909587516870"
     },
     "user_tz": -540
    },
    "id": "ThXeudtM-7I3"
   },
   "outputs": [
    {
     "name": "stderr",
     "output_type": "stream",
     "text": [
      "Using TensorFlow backend.\n"
     ]
    }
   ],
   "source": [
    "from keras.datasets import mnist\n",
    "from keras.models import Sequential \n",
    "from keras.layers.core import Dense, Activation\n",
    "from keras.utils import np_utils  "
   ]
  },
  {
   "cell_type": "code",
   "execution_count": 2,
   "metadata": {
    "colab": {},
    "colab_type": "code",
    "executionInfo": {
     "elapsed": 3085,
     "status": "ok",
     "timestamp": 1592367851503,
     "user": {
      "displayName": "Seung-Chan Kim",
      "photoUrl": "https://lh3.googleusercontent.com/a-/AOh14GjjUCpGdfqBzlivlOvEe4i1Dj062MbvwEmvnGyn=s64",
      "userId": "16393552909587516870"
     },
     "user_tz": -540
    },
    "id": "beFRgfff-7I6"
   },
   "outputs": [],
   "source": [
    "(X_train, Y_train), (X_test, Y_test) = mnist.load_data()"
   ]
  },
  {
   "cell_type": "code",
   "execution_count": 3,
   "metadata": {
    "colab": {
     "base_uri": "https://localhost:8080/",
     "height": 34
    },
    "colab_type": "code",
    "executionInfo": {
     "elapsed": 2882,
     "status": "ok",
     "timestamp": 1592367851505,
     "user": {
      "displayName": "Seung-Chan Kim",
      "photoUrl": "https://lh3.googleusercontent.com/a-/AOh14GjjUCpGdfqBzlivlOvEe4i1Dj062MbvwEmvnGyn=s64",
      "userId": "16393552909587516870"
     },
     "user_tz": -540
    },
    "id": "EbMAFjW4NXZd",
    "outputId": "9524bf12-6e5c-489a-98f2-c848a41b38ae"
   },
   "outputs": [
    {
     "data": {
      "text/plain": [
       "(60000, 28, 28)"
      ]
     },
     "execution_count": 3,
     "metadata": {},
     "output_type": "execute_result"
    }
   ],
   "source": [
    "X_train.shape"
   ]
  },
  {
   "cell_type": "code",
   "execution_count": 4,
   "metadata": {
    "colab": {
     "base_uri": "https://localhost:8080/",
     "height": 34
    },
    "colab_type": "code",
    "executionInfo": {
     "elapsed": 2701,
     "status": "ok",
     "timestamp": 1592367851505,
     "user": {
      "displayName": "Seung-Chan Kim",
      "photoUrl": "https://lh3.googleusercontent.com/a-/AOh14GjjUCpGdfqBzlivlOvEe4i1Dj062MbvwEmvnGyn=s64",
      "userId": "16393552909587516870"
     },
     "user_tz": -540
    },
    "id": "kFdWWdHlNfR3",
    "outputId": "54b004e3-99e7-46e0-db47-04bd7c1c3eb5"
   },
   "outputs": [
    {
     "data": {
      "text/plain": [
       "784"
      ]
     },
     "execution_count": 4,
     "metadata": {},
     "output_type": "execute_result"
    }
   ],
   "source": [
    "28*28"
   ]
  },
  {
   "cell_type": "code",
   "execution_count": 5,
   "metadata": {
    "colab": {
     "base_uri": "https://localhost:8080/",
     "height": 34
    },
    "colab_type": "code",
    "executionInfo": {
     "elapsed": 2504,
     "status": "ok",
     "timestamp": 1592367851506,
     "user": {
      "displayName": "Seung-Chan Kim",
      "photoUrl": "https://lh3.googleusercontent.com/a-/AOh14GjjUCpGdfqBzlivlOvEe4i1Dj062MbvwEmvnGyn=s64",
      "userId": "16393552909587516870"
     },
     "user_tz": -540
    },
    "id": "AwjugHFpNZnR",
    "outputId": "037d9541-0158-484b-ec3b-9215c451cbf6"
   },
   "outputs": [
    {
     "data": {
      "text/plain": [
       "(60000,)"
      ]
     },
     "execution_count": 5,
     "metadata": {},
     "output_type": "execute_result"
    }
   ],
   "source": [
    "Y_train.shape"
   ]
  },
  {
   "cell_type": "code",
   "execution_count": 6,
   "metadata": {
    "colab": {
     "base_uri": "https://localhost:8080/",
     "height": 34
    },
    "colab_type": "code",
    "executionInfo": {
     "elapsed": 2273,
     "status": "ok",
     "timestamp": 1592367851507,
     "user": {
      "displayName": "Seung-Chan Kim",
      "photoUrl": "https://lh3.googleusercontent.com/a-/AOh14GjjUCpGdfqBzlivlOvEe4i1Dj062MbvwEmvnGyn=s64",
      "userId": "16393552909587516870"
     },
     "user_tz": -540
    },
    "id": "O1QXbX6GNnQm",
    "outputId": "7e000553-e10c-44e9-bf00-e0ff819c3550"
   },
   "outputs": [
    {
     "data": {
      "text/plain": [
       "0"
      ]
     },
     "execution_count": 6,
     "metadata": {},
     "output_type": "execute_result"
    }
   ],
   "source": [
    "Y_train[1]"
   ]
  },
  {
   "cell_type": "code",
   "execution_count": 7,
   "metadata": {
    "colab": {},
    "colab_type": "code",
    "executionInfo": {
     "elapsed": 2086,
     "status": "ok",
     "timestamp": 1592367852382,
     "user": {
      "displayName": "Seung-Chan Kim",
      "photoUrl": "https://lh3.googleusercontent.com/a-/AOh14GjjUCpGdfqBzlivlOvEe4i1Dj062MbvwEmvnGyn=s64",
      "userId": "16393552909587516870"
     },
     "user_tz": -540
    },
    "id": "mZviWuaV-7I9"
   },
   "outputs": [],
   "source": [
    "X_train = X_train.reshape(60000, 784)     \n",
    "X_test = X_test.reshape(10000, 784)\n",
    "X_train = X_train.astype('float32')     \n",
    "X_test = X_test.astype('float32')     \n",
    "X_train /= 255    \n",
    "X_test /= 255"
   ]
  },
  {
   "cell_type": "code",
   "execution_count": 8,
   "metadata": {
    "colab": {
     "base_uri": "https://localhost:8080/",
     "height": 34
    },
    "colab_type": "code",
    "executionInfo": {
     "elapsed": 1710,
     "status": "ok",
     "timestamp": 1592367853183,
     "user": {
      "displayName": "Seung-Chan Kim",
      "photoUrl": "https://lh3.googleusercontent.com/a-/AOh14GjjUCpGdfqBzlivlOvEe4i1Dj062MbvwEmvnGyn=s64",
      "userId": "16393552909587516870"
     },
     "user_tz": -540
    },
    "id": "void-8ZYNZIo",
    "outputId": "970c639c-6711-4cc2-d5f7-e5fe8f3ed14c"
   },
   "outputs": [
    {
     "data": {
      "text/plain": [
       "784"
      ]
     },
     "execution_count": 8,
     "metadata": {},
     "output_type": "execute_result"
    }
   ],
   "source": [
    "28*28"
   ]
  },
  {
   "cell_type": "code",
   "execution_count": 9,
   "metadata": {
    "colab": {
     "base_uri": "https://localhost:8080/",
     "height": 34
    },
    "colab_type": "code",
    "executionInfo": {
     "elapsed": 1519,
     "status": "ok",
     "timestamp": 1592367853184,
     "user": {
      "displayName": "Seung-Chan Kim",
      "photoUrl": "https://lh3.googleusercontent.com/a-/AOh14GjjUCpGdfqBzlivlOvEe4i1Dj062MbvwEmvnGyn=s64",
      "userId": "16393552909587516870"
     },
     "user_tz": -540
    },
    "id": "YxKC8g7tOARF",
    "outputId": "be36771f-b731-4197-d192-75c2a5b871a3"
   },
   "outputs": [
    {
     "data": {
      "text/plain": [
       "1"
      ]
     },
     "execution_count": 9,
     "metadata": {},
     "output_type": "execute_result"
    }
   ],
   "source": [
    "Y_train[3]"
   ]
  },
  {
   "cell_type": "code",
   "execution_count": 10,
   "metadata": {
    "colab": {},
    "colab_type": "code",
    "executionInfo": {
     "elapsed": 2248,
     "status": "ok",
     "timestamp": 1592367854363,
     "user": {
      "displayName": "Seung-Chan Kim",
      "photoUrl": "https://lh3.googleusercontent.com/a-/AOh14GjjUCpGdfqBzlivlOvEe4i1Dj062MbvwEmvnGyn=s64",
      "userId": "16393552909587516870"
     },
     "user_tz": -540
    },
    "id": "tbVaLHaw-7I_"
   },
   "outputs": [],
   "source": [
    "classes = 10\n",
    "Y_train = np_utils.to_categorical(Y_train, classes)     \n",
    "Y_test = np_utils.to_categorical(Y_test, classes) "
   ]
  },
  {
   "cell_type": "code",
   "execution_count": 11,
   "metadata": {
    "colab": {
     "base_uri": "https://localhost:8080/",
     "height": 34
    },
    "colab_type": "code",
    "executionInfo": {
     "elapsed": 1495,
     "status": "ok",
     "timestamp": 1592367856404,
     "user": {
      "displayName": "Seung-Chan Kim",
      "photoUrl": "https://lh3.googleusercontent.com/a-/AOh14GjjUCpGdfqBzlivlOvEe4i1Dj062MbvwEmvnGyn=s64",
      "userId": "16393552909587516870"
     },
     "user_tz": -540
    },
    "id": "9zGSm0CuOCvK",
    "outputId": "3683b79e-f5cb-47ab-de30-02d057520b28"
   },
   "outputs": [
    {
     "data": {
      "text/plain": [
       "array([0., 1., 0., 0., 0., 0., 0., 0., 0., 0.], dtype=float32)"
      ]
     },
     "execution_count": 11,
     "metadata": {},
     "output_type": "execute_result"
    }
   ],
   "source": [
    "Y_train[3]"
   ]
  },
  {
   "cell_type": "code",
   "execution_count": 12,
   "metadata": {
    "colab": {},
    "colab_type": "code",
    "executionInfo": {
     "elapsed": 2464,
     "status": "ok",
     "timestamp": 1592367857905,
     "user": {
      "displayName": "Seung-Chan Kim",
      "photoUrl": "https://lh3.googleusercontent.com/a-/AOh14GjjUCpGdfqBzlivlOvEe4i1Dj062MbvwEmvnGyn=s64",
      "userId": "16393552909587516870"
     },
     "user_tz": -540
    },
    "id": "AEW7Z7jx-7JA"
   },
   "outputs": [],
   "source": [
    "input_size = 784\n",
    "batch_size = 100    \n",
    "hidden_neurons = 400    \n",
    "epochs = 5"
   ]
  },
  {
   "cell_type": "code",
   "execution_count": 13,
   "metadata": {
    "colab": {},
    "colab_type": "code",
    "executionInfo": {
     "elapsed": 2223,
     "status": "ok",
     "timestamp": 1592367859357,
     "user": {
      "displayName": "Seung-Chan Kim",
      "photoUrl": "https://lh3.googleusercontent.com/a-/AOh14GjjUCpGdfqBzlivlOvEe4i1Dj062MbvwEmvnGyn=s64",
      "userId": "16393552909587516870"
     },
     "user_tz": -540
    },
    "id": "ElI5v6SZ-7JC"
   },
   "outputs": [
    {
     "name": "stdout",
     "output_type": "stream",
     "text": [
      "WARNING:tensorflow:From /home/seung/.venv/py369tf/lib/python3.6/site-packages/keras/backend/tensorflow_backend.py:66: The name tf.get_default_graph is deprecated. Please use tf.compat.v1.get_default_graph instead.\n",
      "\n",
      "WARNING:tensorflow:From /home/seung/.venv/py369tf/lib/python3.6/site-packages/keras/backend/tensorflow_backend.py:541: The name tf.placeholder is deprecated. Please use tf.compat.v1.placeholder instead.\n",
      "\n",
      "WARNING:tensorflow:From /home/seung/.venv/py369tf/lib/python3.6/site-packages/keras/backend/tensorflow_backend.py:4432: The name tf.random_uniform is deprecated. Please use tf.random.uniform instead.\n",
      "\n"
     ]
    }
   ],
   "source": [
    "model = Sequential()     \n",
    "\n",
    "# 아래 test_mode 를 변경(0-->1, 혹은 1-->0)하고 해보세요. 마지막 정확도가 변하는지 확인해보세요\n",
    "test_mode = 0\n",
    "\n",
    "if test_mode ==0:\n",
    "    model.add(Dense(hidden_neurons, input_dim=input_size)) \n",
    "    model.add(Activation('relu'))     \n",
    "    model.add(Dense(classes)) \n",
    "    model.add(Activation('softmax'))\n",
    "else:\n",
    "    model.add(Dense(classes, input_dim=input_size))\n",
    "    model.add(Activation('softmax'))"
   ]
  },
  {
   "cell_type": "code",
   "execution_count": 14,
   "metadata": {
    "colab": {
     "base_uri": "https://localhost:8080/",
     "height": 533
    },
    "colab_type": "code",
    "executionInfo": {
     "elapsed": 1054,
     "status": "ok",
     "timestamp": 1592367862309,
     "user": {
      "displayName": "Seung-Chan Kim",
      "photoUrl": "https://lh3.googleusercontent.com/a-/AOh14GjjUCpGdfqBzlivlOvEe4i1Dj062MbvwEmvnGyn=s64",
      "userId": "16393552909587516870"
     },
     "user_tz": -540
    },
    "id": "j3zyPc_TOfeG",
    "outputId": "f1c50e61-4c42-49e7-cc7e-63f865b2edf5"
   },
   "outputs": [
    {
     "data": {
      "image/png": "[encoded data removed]",
      "text/plain": [
       "<IPython.core.display.Image object>"
      ]
     },
     "execution_count": 14,
     "metadata": {},
     "output_type": "execute_result"
    }
   ],
   "source": [
    "from keras.utils import plot_model\n",
    "plot_model(model, to_file='model_mnist.png', show_shapes=True)"
   ]
  },
  {
   "cell_type": "code",
   "execution_count": 15,
   "metadata": {
    "colab": {},
    "colab_type": "code",
    "executionInfo": {
     "elapsed": 2824,
     "status": "ok",
     "timestamp": 1592363307113,
     "user": {
      "displayName": "Seung-Chan Kim",
      "photoUrl": "https://lh3.googleusercontent.com/a-/AOh14GjjUCpGdfqBzlivlOvEe4i1Dj062MbvwEmvnGyn=s64",
      "userId": "16393552909587516870"
     },
     "user_tz": -540
    },
    "id": "F-MafnLB-7JE"
   },
   "outputs": [
    {
     "name": "stdout",
     "output_type": "stream",
     "text": [
      "WARNING:tensorflow:From /home/seung/.venv/py369tf/lib/python3.6/site-packages/keras/optimizers.py:793: The name tf.train.Optimizer is deprecated. Please use tf.compat.v1.train.Optimizer instead.\n",
      "\n",
      "WARNING:tensorflow:From /home/seung/.venv/py369tf/lib/python3.6/site-packages/keras/backend/tensorflow_backend.py:3576: The name tf.log is deprecated. Please use tf.math.log instead.\n",
      "\n"
     ]
    }
   ],
   "source": [
    "model.compile(loss='categorical_crossentropy', \n",
    "    metrics=['accuracy'], optimizer='adadelta')\n"
   ]
  },
  {
   "cell_type": "code",
   "execution_count": 16,
   "metadata": {
    "colab": {
     "base_uri": "https://localhost:8080/",
     "height": 212
    },
    "colab_type": "code",
    "executionInfo": {
     "elapsed": 7798,
     "status": "ok",
     "timestamp": 1592363312091,
     "user": {
      "displayName": "Seung-Chan Kim",
      "photoUrl": "https://lh3.googleusercontent.com/a-/AOh14GjjUCpGdfqBzlivlOvEe4i1Dj062MbvwEmvnGyn=s64",
      "userId": "16393552909587516870"
     },
     "user_tz": -540
    },
    "id": "Tl4Lpn-m-7JG",
    "outputId": "d44040d7-d43c-4090-9897-e94c193b0342"
   },
   "outputs": [
    {
     "name": "stdout",
     "output_type": "stream",
     "text": [
      "WARNING:tensorflow:From /home/seung/.venv/py369tf/lib/python3.6/site-packages/tensorflow_core/python/ops/math_grad.py:1424: where (from tensorflow.python.ops.array_ops) is deprecated and will be removed in a future version.\n",
      "Instructions for updating:\n",
      "Use tf.where in 2.0, which has the same broadcast rule as np.where\n",
      "WARNING:tensorflow:From /home/seung/.venv/py369tf/lib/python3.6/site-packages/keras/backend/tensorflow_backend.py:1033: The name tf.assign_add is deprecated. Please use tf.compat.v1.assign_add instead.\n",
      "\n",
      "WARNING:tensorflow:From /home/seung/.venv/py369tf/lib/python3.6/site-packages/keras/backend/tensorflow_backend.py:1020: The name tf.assign is deprecated. Please use tf.compat.v1.assign instead.\n",
      "\n",
      "WARNING:tensorflow:From /home/seung/.venv/py369tf/lib/python3.6/site-packages/keras/backend/tensorflow_backend.py:3005: The name tf.Session is deprecated. Please use tf.compat.v1.Session instead.\n",
      "\n",
      "Epoch 1/5\n",
      "WARNING:tensorflow:From /home/seung/.venv/py369tf/lib/python3.6/site-packages/keras/backend/tensorflow_backend.py:190: The name tf.get_default_session is deprecated. Please use tf.compat.v1.get_default_session instead.\n",
      "\n",
      "WARNING:tensorflow:From /home/seung/.venv/py369tf/lib/python3.6/site-packages/keras/backend/tensorflow_backend.py:197: The name tf.ConfigProto is deprecated. Please use tf.compat.v1.ConfigProto instead.\n",
      "\n",
      "WARNING:tensorflow:From /home/seung/.venv/py369tf/lib/python3.6/site-packages/keras/backend/tensorflow_backend.py:207: The name tf.global_variables is deprecated. Please use tf.compat.v1.global_variables instead.\n",
      "\n",
      "WARNING:tensorflow:From /home/seung/.venv/py369tf/lib/python3.6/site-packages/keras/backend/tensorflow_backend.py:216: The name tf.is_variable_initialized is deprecated. Please use tf.compat.v1.is_variable_initialized instead.\n",
      "\n",
      "WARNING:tensorflow:From /home/seung/.venv/py369tf/lib/python3.6/site-packages/keras/backend/tensorflow_backend.py:223: The name tf.variables_initializer is deprecated. Please use tf.compat.v1.variables_initializer instead.\n",
      "\n",
      "60000/60000 [==============================] - 3s 50us/step - loss: 0.2901 - acc: 0.9186\n",
      "Epoch 2/5\n",
      "60000/60000 [==============================] - 2s 40us/step - loss: 0.1261 - acc: 0.9635\n",
      "Epoch 3/5\n",
      "60000/60000 [==============================] - 2s 40us/step - loss: 0.0866 - acc: 0.9754\n",
      "Epoch 4/5\n",
      "60000/60000 [==============================] - 2s 40us/step - loss: 0.0659 - acc: 0.9809\n",
      "Epoch 5/5\n",
      "60000/60000 [==============================] - 2s 40us/step - loss: 0.0519 - acc: 0.9850\n"
     ]
    },
    {
     "data": {
      "text/plain": [
       "<keras.callbacks.History at 0x7fda3ff8b940>"
      ]
     },
     "execution_count": 16,
     "metadata": {},
     "output_type": "execute_result"
    }
   ],
   "source": [
    "model.fit(X_train, Y_train, batch_size=batch_size, epochs=epochs, verbose=1)"
   ]
  },
  {
   "cell_type": "code",
   "execution_count": 17,
   "metadata": {
    "colab": {
     "base_uri": "https://localhost:8080/",
     "height": 70
    },
    "colab_type": "code",
    "executionInfo": {
     "elapsed": 8117,
     "status": "ok",
     "timestamp": 1592363312416,
     "user": {
      "displayName": "Seung-Chan Kim",
      "photoUrl": "https://lh3.googleusercontent.com/a-/AOh14GjjUCpGdfqBzlivlOvEe4i1Dj062MbvwEmvnGyn=s64",
      "userId": "16393552909587516870"
     },
     "user_tz": -540
    },
    "id": "f3MMV4bL-7JI",
    "outputId": "8d4bb09c-52c4-49f2-fa2a-57b5b19f08fc"
   },
   "outputs": [
    {
     "name": "stdout",
     "output_type": "stream",
     "text": [
      "10000/10000 [==============================] - 0s 18us/step\n",
      "\n",
      "Test accuracy: 0.9781\n"
     ]
    }
   ],
   "source": [
    "score = model.evaluate(X_test, Y_test, verbose=1)\n",
    "print('\\n''Test accuracy:', score[1]) \n",
    "#Test accuracy: 0.983"
   ]
  }
 ],
 "metadata": {
  "colab": {
   "collapsed_sections": [],
   "name": "hello_MNIST_Keras.ipynb",
   "provenance": []
  },
  "kernelspec": {
   "display_name": "Python 3",
   "language": "python",
   "name": "python3"
  },
  "language_info": {
   "codemirror_mode": {
    "name": "ipython",
    "version": 3
   },
   "file_extension": ".py",
   "mimetype": "text/x-python",
   "name": "python",
   "nbconvert_exporter": "python",
   "pygments_lexer": "ipython3",
   "version": "3.6.9"
  }
 },
 "nbformat": 4,
 "nbformat_minor": 1
}
