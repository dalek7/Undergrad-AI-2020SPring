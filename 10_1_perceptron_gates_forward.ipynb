{
 "cells": [
  {
   "cell_type": "markdown",
   "metadata": {
    "colab_type": "text",
    "id": "Ks_lwaAaVSuJ"
   },
   "source": [
    "### Perceptron 을 이용한 Gate 만들기 (forward)"
   ]
  },
  {
   "cell_type": "code",
   "execution_count": 1,
   "metadata": {
    "colab": {},
    "colab_type": "code",
    "id": "EsvAEuh5M3Rn"
   },
   "outputs": [],
   "source": [
    "import numpy as np"
   ]
  },
  {
   "cell_type": "code",
   "execution_count": 2,
   "metadata": {
    "colab": {},
    "colab_type": "code",
    "id": "IPV6uUslMfLO"
   },
   "outputs": [],
   "source": [
    "def AND(x1, x2):\n",
    "  x = np.array([x1, x2])\n",
    "  w = np.array([0.5, 0.5])\n",
    "  b = -0.7\n",
    "  tmp = w[0]*x[0] + w[1]*x[1] + b # tmp = np.sum(w*x) + b\n",
    "  print('tmp=',tmp)\n",
    "  if tmp <= 0:\n",
    "    return 0\n",
    "  else:\n",
    "    return 1"
   ]
  },
  {
   "cell_type": "code",
   "execution_count": 3,
   "metadata": {
    "colab": {
     "base_uri": "https://localhost:8080/",
     "height": 34
    },
    "colab_type": "code",
    "executionInfo": {
     "elapsed": 387,
     "status": "ok",
     "timestamp": 1591843014874,
     "user": {
      "displayName": "Seung-Chan Kim",
      "photoUrl": "https://lh3.googleusercontent.com/a-/AOh14GjjUCpGdfqBzlivlOvEe4i1Dj062MbvwEmvnGyn=s64",
      "userId": "16393552909587516870"
     },
     "user_tz": -540
    },
    "id": "bQx0geOhOaiQ",
    "outputId": "2409d638-ff41-4586-a211-5d10875c9336"
   },
   "outputs": [
    {
     "data": {
      "text/plain": [
       "1.3"
      ]
     },
     "execution_count": 3,
     "metadata": {},
     "output_type": "execute_result"
    }
   ],
   "source": [
    "(3*0.5 + 1*0.5 - 0.7)# <= 0"
   ]
  },
  {
   "cell_type": "code",
   "execution_count": 4,
   "metadata": {
    "colab": {
     "base_uri": "https://localhost:8080/",
     "height": 52
    },
    "colab_type": "code",
    "executionInfo": {
     "elapsed": 567,
     "status": "ok",
     "timestamp": 1591843054465,
     "user": {
      "displayName": "Seung-Chan Kim",
      "photoUrl": "https://lh3.googleusercontent.com/a-/AOh14GjjUCpGdfqBzlivlOvEe4i1Dj062MbvwEmvnGyn=s64",
      "userId": "16393552909587516870"
     },
     "user_tz": -540
    },
    "id": "QdLQu47hMs-B",
    "outputId": "35921ff6-7f17-4cc7-9913-de3dfe4a90fd"
   },
   "outputs": [
    {
     "name": "stdout",
     "output_type": "stream",
     "text": [
      "tmp= 0.010000000000000009\n"
     ]
    },
    {
     "data": {
      "text/plain": [
       "1"
      ]
     },
     "execution_count": 4,
     "metadata": {},
     "output_type": "execute_result"
    }
   ],
   "source": [
    "AND(0.71,0.71)"
   ]
  },
  {
   "cell_type": "code",
   "execution_count": 5,
   "metadata": {
    "colab": {
     "base_uri": "https://localhost:8080/",
     "height": 52
    },
    "colab_type": "code",
    "executionInfo": {
     "elapsed": 678,
     "status": "ok",
     "timestamp": 1591843159634,
     "user": {
      "displayName": "Seung-Chan Kim",
      "photoUrl": "https://lh3.googleusercontent.com/a-/AOh14GjjUCpGdfqBzlivlOvEe4i1Dj062MbvwEmvnGyn=s64",
      "userId": "16393552909587516870"
     },
     "user_tz": -540
    },
    "id": "2Jbgf6H4M1Ik",
    "outputId": "c6a6dee7-0c68-46fc-dd33-8f5a82c3e591"
   },
   "outputs": [
    {
     "name": "stdout",
     "output_type": "stream",
     "text": [
      "tmp= -0.19999999999999996\n"
     ]
    },
    {
     "data": {
      "text/plain": [
       "0"
      ]
     },
     "execution_count": 5,
     "metadata": {},
     "output_type": "execute_result"
    }
   ],
   "source": [
    "AND(0,1)"
   ]
  },
  {
   "cell_type": "code",
   "execution_count": 6,
   "metadata": {
    "colab": {},
    "colab_type": "code",
    "id": "Im29jB4QNLhY"
   },
   "outputs": [],
   "source": [
    "def OR(x1, x2):\n",
    "  x = np.array([x1, x2])\n",
    "  w = np.array([0.5, 0.5])\n",
    "  b = -0.2\n",
    "  tmp = w[0]*x[0] + w[1]*x[1] + b # tmp = np.sum(w*x) + b\n",
    "  print('tmp=',tmp)\n",
    "  if tmp <= 0:\n",
    "    return 0\n",
    "  else:\n",
    "    return 1"
   ]
  },
  {
   "cell_type": "code",
   "execution_count": 7,
   "metadata": {
    "colab": {
     "base_uri": "https://localhost:8080/",
     "height": 52
    },
    "colab_type": "code",
    "executionInfo": {
     "elapsed": 507,
     "status": "ok",
     "timestamp": 1591843147477,
     "user": {
      "displayName": "Seung-Chan Kim",
      "photoUrl": "https://lh3.googleusercontent.com/a-/AOh14GjjUCpGdfqBzlivlOvEe4i1Dj062MbvwEmvnGyn=s64",
      "userId": "16393552909587516870"
     },
     "user_tz": -540
    },
    "id": "MWVs8CK0PpQG",
    "outputId": "39f078e0-d168-44ce-9b4b-7c33175c7c5e"
   },
   "outputs": [
    {
     "name": "stdout",
     "output_type": "stream",
     "text": [
      "tmp= 0.3\n"
     ]
    },
    {
     "data": {
      "text/plain": [
       "1"
      ]
     },
     "execution_count": 7,
     "metadata": {},
     "output_type": "execute_result"
    }
   ],
   "source": [
    "OR(0,1)"
   ]
  },
  {
   "cell_type": "code",
   "execution_count": 8,
   "metadata": {
    "colab": {},
    "colab_type": "code",
    "id": "G1Kqj0EfPryL"
   },
   "outputs": [],
   "source": [
    "def NAND(x1, x2):\n",
    "  x = np.array([x1, x2])\n",
    "  w = np.array([-0.5, -0.5])\n",
    "  b = 0.7\n",
    "  tmp = w[0]*x[0] + w[1]*x[1] + b # tmp = np.sum(w*x) + b\n",
    "  print('tmp=',tmp)\n",
    "  if tmp <= 0:\n",
    "    return 0\n",
    "  else:\n",
    "    return 1"
   ]
  },
  {
   "cell_type": "code",
   "execution_count": 9,
   "metadata": {
    "colab": {
     "base_uri": "https://localhost:8080/",
     "height": 52
    },
    "colab_type": "code",
    "executionInfo": {
     "elapsed": 548,
     "status": "ok",
     "timestamp": 1591843548161,
     "user": {
      "displayName": "Seung-Chan Kim",
      "photoUrl": "https://lh3.googleusercontent.com/a-/AOh14GjjUCpGdfqBzlivlOvEe4i1Dj062MbvwEmvnGyn=s64",
      "userId": "16393552909587516870"
     },
     "user_tz": -540
    },
    "id": "vVFjf4JvP9n5",
    "outputId": "60cd2c31-ad07-468f-972b-d639db2d0409"
   },
   "outputs": [
    {
     "name": "stdout",
     "output_type": "stream",
     "text": [
      "tmp= -0.30000000000000004\n"
     ]
    },
    {
     "data": {
      "text/plain": [
       "0"
      ]
     },
     "execution_count": 9,
     "metadata": {},
     "output_type": "execute_result"
    }
   ],
   "source": [
    "NAND(1,1)"
   ]
  },
  {
   "cell_type": "code",
   "execution_count": 10,
   "metadata": {
    "colab": {},
    "colab_type": "code",
    "id": "H5qL7vY0QBKt"
   },
   "outputs": [],
   "source": [
    "def XOR(x1, x2):\n",
    "  s1 = NAND(x1, x2)\n",
    "  s2 = OR(x1, x2)\n",
    "  y = AND(s1, s2) \n",
    "  return y"
   ]
  },
  {
   "cell_type": "code",
   "execution_count": 11,
   "metadata": {
    "colab": {
     "base_uri": "https://localhost:8080/",
     "height": 87
    },
    "colab_type": "code",
    "executionInfo": {
     "elapsed": 507,
     "status": "ok",
     "timestamp": 1591843554189,
     "user": {
      "displayName": "Seung-Chan Kim",
      "photoUrl": "https://lh3.googleusercontent.com/a-/AOh14GjjUCpGdfqBzlivlOvEe4i1Dj062MbvwEmvnGyn=s64",
      "userId": "16393552909587516870"
     },
     "user_tz": -540
    },
    "id": "CLYbEYGaQIOR",
    "outputId": "ca46e773-0e21-4fc3-dd81-b1230bc04773"
   },
   "outputs": [
    {
     "name": "stdout",
     "output_type": "stream",
     "text": [
      "tmp= 0.7\n",
      "tmp= -0.2\n",
      "tmp= -0.19999999999999996\n"
     ]
    },
    {
     "data": {
      "text/plain": [
       "0"
      ]
     },
     "execution_count": 11,
     "metadata": {},
     "output_type": "execute_result"
    }
   ],
   "source": [
    "XOR(0, 0)"
   ]
  },
  {
   "cell_type": "code",
   "execution_count": 12,
   "metadata": {
    "colab": {
     "base_uri": "https://localhost:8080/",
     "height": 87
    },
    "colab_type": "code",
    "executionInfo": {
     "elapsed": 550,
     "status": "ok",
     "timestamp": 1591843556046,
     "user": {
      "displayName": "Seung-Chan Kim",
      "photoUrl": "https://lh3.googleusercontent.com/a-/AOh14GjjUCpGdfqBzlivlOvEe4i1Dj062MbvwEmvnGyn=s64",
      "userId": "16393552909587516870"
     },
     "user_tz": -540
    },
    "id": "-VQFg3S0QV0F",
    "outputId": "fab5846d-ae3a-4437-c264-1d2e92bdf259"
   },
   "outputs": [
    {
     "name": "stdout",
     "output_type": "stream",
     "text": [
      "tmp= -0.30000000000000004\n",
      "tmp= 0.8\n",
      "tmp= -0.19999999999999996\n"
     ]
    },
    {
     "data": {
      "text/plain": [
       "0"
      ]
     },
     "execution_count": 12,
     "metadata": {},
     "output_type": "execute_result"
    }
   ],
   "source": [
    "XOR(1, 1)"
   ]
  },
  {
   "cell_type": "code",
   "execution_count": 13,
   "metadata": {
    "colab": {
     "base_uri": "https://localhost:8080/",
     "height": 87
    },
    "colab_type": "code",
    "executionInfo": {
     "elapsed": 396,
     "status": "ok",
     "timestamp": 1591843556862,
     "user": {
      "displayName": "Seung-Chan Kim",
      "photoUrl": "https://lh3.googleusercontent.com/a-/AOh14GjjUCpGdfqBzlivlOvEe4i1Dj062MbvwEmvnGyn=s64",
      "userId": "16393552909587516870"
     },
     "user_tz": -540
    },
    "id": "ll_no9eLQglU",
    "outputId": "4bde01ee-c374-4463-a228-95f30ce2aca4"
   },
   "outputs": [
    {
     "name": "stdout",
     "output_type": "stream",
     "text": [
      "tmp= 0.19999999999999996\n",
      "tmp= 0.3\n",
      "tmp= 0.30000000000000004\n"
     ]
    },
    {
     "data": {
      "text/plain": [
       "1"
      ]
     },
     "execution_count": 13,
     "metadata": {},
     "output_type": "execute_result"
    }
   ],
   "source": [
    "XOR(0, 1)"
   ]
  }
 ],
 "metadata": {
  "colab": {
   "authorship_tag": "ABX9TyMowrXJKLD2yhdg9AkmawCv",
   "collapsed_sections": [],
   "name": "10_1_perceptron_gates_forward.ipynb",
   "provenance": []
  },
  "kernelspec": {
   "display_name": "Python 3",
   "language": "python",
   "name": "python3"
  },
  "language_info": {
   "codemirror_mode": {
    "name": "ipython",
    "version": 3
   },
   "file_extension": ".py",
   "mimetype": "text/x-python",
   "name": "python",
   "nbconvert_exporter": "python",
   "pygments_lexer": "ipython3",
   "version": "3.6.9"
  }
 },
 "nbformat": 4,
 "nbformat_minor": 1
}
